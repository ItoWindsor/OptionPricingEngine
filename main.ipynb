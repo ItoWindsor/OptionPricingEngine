{
 "cells": [
  {
   "cell_type": "code",
   "execution_count": null,
   "id": "initial_id",
   "metadata": {
    "collapsed": true
   },
   "outputs": [],
   "source": ""
  },
  {
   "metadata": {},
   "cell_type": "code",
   "outputs": [],
   "execution_count": null,
   "source": [
    "correlated_W = np.zeros(W.shape)\n",
    "for k in range(n_mc):\n",
    "    correlated_W[k*n_underlying:(k+1)*n_underlying,:] = np.dot(mat[:,np.newaxis],W[k*n_underlying:(k+1)*n_underlying,:]).reshape((n_underlying,n_time+1))"
   ],
   "id": "17d13b86c4ff6479"
  }
 ],
 "metadata": {
  "kernelspec": {
   "display_name": "Python 3",
   "language": "python",
   "name": "python3"
  },
  "language_info": {
   "codemirror_mode": {
    "name": "ipython",
    "version": 2
   },
   "file_extension": ".py",
   "mimetype": "text/x-python",
   "name": "python",
   "nbconvert_exporter": "python",
   "pygments_lexer": "ipython2",
   "version": "2.7.6"
  }
 },
 "nbformat": 4,
 "nbformat_minor": 5
}
