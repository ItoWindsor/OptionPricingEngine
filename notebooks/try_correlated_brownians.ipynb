{
 "cells": [
  {
   "cell_type": "code",
   "id": "initial_id",
   "metadata": {
    "collapsed": true,
    "ExecuteTime": {
     "end_time": "2024-10-09T20:45:39.741796Z",
     "start_time": "2024-10-09T20:45:38.053528Z"
    }
   },
   "source": "from src import PricingMethod, UnderlyingModel",
   "outputs": [],
   "execution_count": 7
  },
  {
   "metadata": {
    "ExecuteTime": {
     "end_time": "2024-10-09T20:45:40.553454Z",
     "start_time": "2024-10-09T20:45:40.519023Z"
    }
   },
   "cell_type": "code",
   "source": [
    "n_time = 10\n",
    "n_mc = 3\n",
    "\n",
    "dic_param_bs = {\n",
    "    'r' : 0.01,\n",
    "    'q' : [0.02, 0.1],\n",
    "    'sigma' : [0.2, 0.4],\n",
    "}\n",
    "bs_model = UnderlyingModel.BlackScholes()\n",
    "pricer_mc = PricingMethod.PricingMonteCarlo()"
   ],
   "id": "ad5d25580afe744d",
   "outputs": [
    {
     "ename": "TypeError",
     "evalue": "PricingMonteCarlo.__init__() missing 2 required positional arguments: 'n_time' and 'n_mc'",
     "output_type": "error",
     "traceback": [
      "\u001B[0;31m---------------------------------------------------------------------------\u001B[0m",
      "\u001B[0;31mTypeError\u001B[0m                                 Traceback (most recent call last)",
      "Cell \u001B[0;32mIn[8], line 1\u001B[0m\n\u001B[0;32m----> 1\u001B[0m pricer_mc \u001B[38;5;241m=\u001B[39m \u001B[43mPricingMethod\u001B[49m\u001B[38;5;241;43m.\u001B[39;49m\u001B[43mPricingMonteCarlo\u001B[49m\u001B[43m(\u001B[49m\u001B[43m)\u001B[49m\n",
      "\u001B[0;31mTypeError\u001B[0m: PricingMonteCarlo.__init__() missing 2 required positional arguments: 'n_time' and 'n_mc'"
     ]
    }
   ],
   "execution_count": 8
  },
  {
   "metadata": {},
   "cell_type": "code",
   "outputs": [],
   "execution_count": null,
   "source": "",
   "id": "69b7513b9ab4d79"
  }
 ],
 "metadata": {
  "kernelspec": {
   "display_name": "Python 3",
   "language": "python",
   "name": "python3"
  },
  "language_info": {
   "codemirror_mode": {
    "name": "ipython",
    "version": 2
   },
   "file_extension": ".py",
   "mimetype": "text/x-python",
   "name": "python",
   "nbconvert_exporter": "python",
   "pygments_lexer": "ipython2",
   "version": "2.7.6"
  }
 },
 "nbformat": 4,
 "nbformat_minor": 5
}
