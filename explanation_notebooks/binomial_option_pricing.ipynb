{
 "cells": [
  {
   "metadata": {},
   "cell_type": "markdown",
   "source": [
    "# Binomial Option Pricing\n",
    "## Black Scholes model"
   ],
   "id": "fdad0f9f7e6157bf"
  },
  {
   "metadata": {},
   "cell_type": "markdown",
   "source": [
    "Our goal is to compute the following expectation :\n",
    "$$\n",
    "\\begin{equation*}\n",
    "    V \\left( 0, S_0 \\right) = e^{-rT} \\mathbb{E}^{\\mathbb{Q}} \\left[ f \\left( S_T^{0,S_0} \\right) \\right]\n",
    "\\end{equation*}\n",
    "$$\n",
    "However the computation of this expectation can be quite hard as it involves knowing the law of $S_T$. One way to \"simplify\" the problem is to consider a markov chain on another space. Indeed, we worked under $Q$ but we will now consider $Q_T^n$ which we define as the risk neutral probability for the markov chain : $\\left( \\overline{S_k} \\right)_{0 \\leq k \\leq n}$ with $0 = t_0 < t_1 < ... < t_n = T$ an evenly spaced discretization of the time entitled 'trading dates'.\n",
    "This new process is defined as follows :\n",
    "$$\n",
    "\\begin{align*}\n",
    "    \\overline{S_0} &= S_0 \\\\\n",
    "    \\overline{S_k} &=  \\overline{S_0} \\prod_{k=1}^{n} R_k\n",
    "\\end{align*}\n",
    "$$\n",
    "Where $R_k$ is defined as the \"one-period return\" and is defined as :\n",
    "$$\n",
    "R_k = \\left\\{\n",
    "    \\begin{array}{ll}\n",
    "        u &  \\text{ with a probability } p_u \\\\\n",
    "        d &  \\text{ with a probability } p_d = 1 - p_u\n",
    "    \\end{array}\n",
    "\\right.\n",
    "$$\n",
    "Now the hard part is that in fact we want the following equality to be true :\n",
    "$$\n",
    "\\begin{equation*}\n",
    "    \\mathbb{E}^{\\mathbb{Q}} \\left[ f \\left( S_T^{0,S_0} \\right) \\right] = \\mathbb{E}^{\\mathbb{Q}_{T}^{n}} \\left[ f \\left( \\overline{S_T}^{0,S_0} \\right) \\right]\n",
    "\\end{equation*}\n",
    "$$\n",
    "\n",
    "To get the following equality to hold true for \"big n\" we need to find the good parameters $u$,$d$,$p_u$. For this we will look at two models Jarrow Rudd and Cox Ross Rubinstein. The JRR model tels us to take the following values :\n",
    "$$\n",
    "\\begin{align*}\n",
    "    u &= e^{ \\left( r - \\frac{\\sigma^2}{2} \\right) \\frac{T}{n} + \\sigma \\sqrt{\\frac{T}{n}} } \\\\\n",
    "    d &= e^{ \\left( r - \\frac{\\sigma^2}{2} \\right) \\frac{T}{n} - \\sigma \\sqrt{\\frac{T}{n}} } \\\\\n",
    "    p_u &= \\frac{1}{2}\n",
    "\\end{align*}\n",
    "$$\n",
    "and the CRR model tells us to take the following values :\n",
    "$$\n",
    "\\begin{align*}\n",
    "    u &= e^{ \\left( \\sigma \\sqrt{\\frac{T}{n}}\\right) } \\\\\n",
    "    d &= \\frac{1}{u} \\\\\n",
    "    p_u &= \\frac{e^{r \\frac{T}{n}} -d }{u-d}\n",
    "\\end{align*}\n",
    "$$"
   ],
   "id": "8600495c6112f430"
  },
  {
   "metadata": {},
   "cell_type": "code",
   "outputs": [],
   "execution_count": null,
   "source": "",
   "id": "61e564e9986a71f"
  }
 ],
 "metadata": {
  "kernelspec": {
   "display_name": "Python 3",
   "language": "python",
   "name": "python3"
  },
  "language_info": {
   "codemirror_mode": {
    "name": "ipython",
    "version": 2
   },
   "file_extension": ".py",
   "mimetype": "text/x-python",
   "name": "python",
   "nbconvert_exporter": "python",
   "pygments_lexer": "ipython2",
   "version": "2.7.6"
  }
 },
 "nbformat": 4,
 "nbformat_minor": 5
}
