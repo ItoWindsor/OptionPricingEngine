{
 "cells": [
  {
   "cell_type": "code",
   "id": "initial_id",
   "metadata": {
    "collapsed": true,
    "ExecuteTime": {
     "end_time": "2024-10-23T00:34:52.241114Z",
     "start_time": "2024-10-23T00:34:52.236994Z"
    }
   },
   "source": [
    "import numpy as np\n",
    "\n",
    "from src import PricingMethod, UnderlyingModel, Derivative"
   ],
   "outputs": [],
   "execution_count": 146
  },
  {
   "metadata": {
    "ExecuteTime": {
     "end_time": "2024-10-23T00:44:38.078310Z",
     "start_time": "2024-10-23T00:44:38.074652Z"
    }
   },
   "cell_type": "code",
   "source": [
    "n_time = 10\n",
    "n_mc = 10000\n",
    "\n",
    "sigma1 = 0.5\n",
    "sigma2 = 0.4\n",
    "sigma3 = 0.8\n",
    "\n",
    "dic_param_bs = {\n",
    "    'r' : 0.01,\n",
    "    'q' : [0.02, 0.1, 0.0],\n",
    "    'sigma' : np.array([sigma1, sigma2, sigma3]),\n",
    "    'underlying_price' : [100,80, 210],\n",
    "    'rho' : np.array([[1.0, 0.6, 0.5], [0.6, 1.0, 0.8], [0.5, 0.8, 1.0]]),\n",
    "    'n_underlying' : 3 \n",
    "}\n",
    "\n",
    "dic_param_call = {\n",
    "    'K' : [100,90, 210],\n",
    "    'valuation_time' : 0,\n",
    "    'end_time' : 1\n",
    "}\n",
    "\n",
    "european_call = Derivative.EuropeanCall(dic_param_call)\n",
    "bs_model = UnderlyingModel.BlackScholes(dic_param_bs)\n",
    "pricer_mc = PricingMethod.PricingMonteCarlo(n_time,n_mc)"
   ],
   "id": "ad5d25580afe744d",
   "outputs": [],
   "execution_count": 214
  },
  {
   "metadata": {
    "ExecuteTime": {
     "end_time": "2024-10-23T00:44:38.340521Z",
     "start_time": "2024-10-23T00:44:38.337949Z"
    }
   },
   "cell_type": "code",
   "source": "dic_param_bs['sigma'].shape",
   "id": "b501dde9a3bfc4bc",
   "outputs": [
    {
     "data": {
      "text/plain": [
       "(3,)"
      ]
     },
     "execution_count": 215,
     "metadata": {},
     "output_type": "execute_result"
    }
   ],
   "execution_count": 215
  },
  {
   "metadata": {
    "ExecuteTime": {
     "end_time": "2024-10-23T00:44:38.590805Z",
     "start_time": "2024-10-23T00:44:38.588093Z"
    }
   },
   "cell_type": "code",
   "source": "print(bs_model)",
   "id": "69b7513b9ab4d79",
   "outputs": [
    {
     "name": "stdout",
     "output_type": "stream",
     "text": [
      "Black Scholes model\n",
      "r: 0.01\n",
      "q: [0.02, 0.1, 0.0]\n",
      "sigma: [0.5 0.4 0.8]\n",
      "underlying_price: [100, 80, 210]\n",
      "rho: [[1.  0.6 0.5]\n",
      " [0.6 1.  0.8]\n",
      " [0.5 0.8 1. ]]\n",
      "n_underlying: 3\n",
      "\n"
     ]
    }
   ],
   "execution_count": 216
  },
  {
   "metadata": {
    "ExecuteTime": {
     "end_time": "2024-10-23T00:44:39.295636Z",
     "start_time": "2024-10-23T00:44:38.807284Z"
    }
   },
   "cell_type": "code",
   "source": "correlated_paths = pricer_mc.generate_paths(european_call, bs_model)",
   "id": "f8f6bc6035ced16c",
   "outputs": [],
   "execution_count": 217
  },
  {
   "metadata": {
    "ExecuteTime": {
     "end_time": "2024-10-23T00:44:39.300072Z",
     "start_time": "2024-10-23T00:44:39.296707Z"
    }
   },
   "cell_type": "code",
   "source": "np.log(correlated_paths)",
   "id": "c32e515fb9f46a43",
   "outputs": [
    {
     "data": {
      "text/plain": [
       "array([[4.60517019, 4.47283402, 4.5486276 , ..., 4.45327975, 4.50238798,\n",
       "        4.19291187],\n",
       "       [4.38202663, 4.27525714, 4.14229646, ..., 4.2210237 , 4.33221873,\n",
       "        3.94165686],\n",
       "       [5.34710753, 5.43621996, 5.23766943, ..., 5.01838595, 5.25117732,\n",
       "        4.66953718],\n",
       "       ...,\n",
       "       [4.60517019, 4.68296045, 4.91705125, ..., 4.3558954 , 4.16858134,\n",
       "        4.29854947],\n",
       "       [4.38202663, 4.38920082, 4.55707473, ..., 4.18832914, 4.12778183,\n",
       "        4.14079831],\n",
       "       [5.34710753, 5.18646552, 5.45196012, ..., 4.59747965, 4.47092116,\n",
       "        4.70263016]])"
      ]
     },
     "execution_count": 218,
     "metadata": {},
     "output_type": "execute_result"
    }
   ],
   "execution_count": 218
  },
  {
   "metadata": {
    "ExecuteTime": {
     "end_time": "2024-10-23T00:44:39.426680Z",
     "start_time": "2024-10-23T00:44:39.424604Z"
    }
   },
   "cell_type": "code",
   "source": "n_mc",
   "id": "bb9efe81ee26ba55",
   "outputs": [
    {
     "data": {
      "text/plain": [
       "10000"
      ]
     },
     "execution_count": 219,
     "metadata": {},
     "output_type": "execute_result"
    }
   ],
   "execution_count": 219
  },
  {
   "metadata": {
    "ExecuteTime": {
     "end_time": "2024-10-23T00:44:39.762720Z",
     "start_time": "2024-10-23T00:44:39.760435Z"
    }
   },
   "cell_type": "code",
   "source": [
    "dic_idx_assets = {}\n",
    "for k in range(dic_param_bs['n_underlying']):\n",
    "    dic_idx_assets[k] =  np.arange(k,n_mc*dic_param_bs['n_underlying'], dic_param_bs['n_underlying'])"
   ],
   "id": "4f21e7c3ca974770",
   "outputs": [],
   "execution_count": 220
  },
  {
   "metadata": {
    "ExecuteTime": {
     "end_time": "2024-10-23T00:44:40.178003Z",
     "start_time": "2024-10-23T00:44:40.175455Z"
    }
   },
   "cell_type": "code",
   "source": "mat = np.array([np.ravel(correlated_paths[dic_idx_assets[k],-1]) for k in range(dic_param_bs['n_underlying'])])",
   "id": "32efe9aed321c307",
   "outputs": [],
   "execution_count": 221
  },
  {
   "metadata": {
    "ExecuteTime": {
     "end_time": "2024-10-23T00:44:40.505276Z",
     "start_time": "2024-10-23T00:44:40.501949Z"
    }
   },
   "cell_type": "code",
   "source": "np.cov(np.log(mat))",
   "id": "d4204375236f59d5",
   "outputs": [
    {
     "data": {
      "text/plain": [
       "array([[0.25094453, 0.1199176 , 0.2028136 ],\n",
       "       [0.1199176 , 0.16102481, 0.25720205],\n",
       "       [0.2028136 , 0.25720205, 0.6418299 ]])"
      ]
     },
     "execution_count": 222,
     "metadata": {},
     "output_type": "execute_result"
    }
   ],
   "execution_count": 222
  },
  {
   "metadata": {
    "ExecuteTime": {
     "end_time": "2024-10-23T00:44:41.762853Z",
     "start_time": "2024-10-23T00:44:41.758071Z"
    }
   },
   "cell_type": "code",
   "source": "np.diag(dic_param_bs['sigma']) @ dic_param_bs['rho'] @ np.diag(dic_param_bs['sigma'])",
   "id": "35d1d65d181e3eb6",
   "outputs": [
    {
     "data": {
      "text/plain": [
       "array([[0.25 , 0.12 , 0.2  ],\n",
       "       [0.12 , 0.16 , 0.256],\n",
       "       [0.2  , 0.256, 0.64 ]])"
      ]
     },
     "execution_count": 223,
     "metadata": {},
     "output_type": "execute_result"
    }
   ],
   "execution_count": 223
  },
  {
   "metadata": {
    "ExecuteTime": {
     "end_time": "2024-10-23T00:45:44.032956Z",
     "start_time": "2024-10-23T00:45:44.016806Z"
    }
   },
   "cell_type": "code",
   "source": "print(f\"error L_inf : {np.max(np.abs( (np.diag(dic_param_bs['sigma']) @ dic_param_bs['rho'] @ np.diag(dic_param_bs['sigma'])) - np.cov(np.log(mat))))}\")",
   "id": "9ec9bce7cd4283d4",
   "outputs": [
    {
     "name": "stdout",
     "output_type": "stream",
     "text": [
      "error L_inf : 0.0028136025245963647\n"
     ]
    }
   ],
   "execution_count": 225
  },
  {
   "metadata": {
    "ExecuteTime": {
     "end_time": "2024-10-23T00:44:30.932128Z",
     "start_time": "2024-10-23T00:44:30.929563Z"
    }
   },
   "cell_type": "code",
   "source": "np.corrcoef(np.log(mat))",
   "id": "69a7b1b54281b90b",
   "outputs": [
    {
     "data": {
      "text/plain": [
       "array([[1.        , 0.58697918, 0.46630701],\n",
       "       [0.58697918, 1.        , 0.79452157],\n",
       "       [0.46630701, 0.79452157, 1.        ]])"
      ]
     },
     "execution_count": 213,
     "metadata": {},
     "output_type": "execute_result"
    }
   ],
   "execution_count": 213
  }
 ],
 "metadata": {
  "kernelspec": {
   "display_name": "Python 3",
   "language": "python",
   "name": "python3"
  },
  "language_info": {
   "codemirror_mode": {
    "name": "ipython",
    "version": 2
   },
   "file_extension": ".py",
   "mimetype": "text/x-python",
   "name": "python",
   "nbconvert_exporter": "python",
   "pygments_lexer": "ipython2",
   "version": "2.7.6"
  }
 },
 "nbformat": 4,
 "nbformat_minor": 5
}
