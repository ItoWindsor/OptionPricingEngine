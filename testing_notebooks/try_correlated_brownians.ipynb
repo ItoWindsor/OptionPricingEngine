{
 "cells": [
  {
   "cell_type": "code",
   "id": "initial_id",
   "metadata": {
    "collapsed": true,
    "ExecuteTime": {
     "end_time": "2024-10-10T15:45:00.701016Z",
     "start_time": "2024-10-10T15:45:00.095002Z"
    }
   },
   "source": [
    "import numpy as np\n",
    "\n",
    "from src import PricingMethod, UnderlyingModel, Derivative"
   ],
   "outputs": [],
   "execution_count": 1
  },
  {
   "metadata": {
    "ExecuteTime": {
     "end_time": "2024-10-10T15:48:30.746396Z",
     "start_time": "2024-10-10T15:48:30.710185Z"
    }
   },
   "cell_type": "code",
   "source": [
    "n_time = 10\n",
    "n_mc = 3\n",
    "\n",
    "dic_param_bs = {\n",
    "    'r' : 0.01,\n",
    "    'q' : [0.02, 0.1],\n",
    "    'sigma' : np.array([[0.2, 0.4]]),\n",
    "    'underlying_price' : [100,80],\n",
    "    'rho' : np.array([[1.0, 0.5], [0.5, 1.0]]),\n",
    "    'n_underlying' : 2\n",
    "}\n",
    "\n",
    "dic_param_call = {\n",
    "    'K' : [100,90],\n",
    "    'valuation_time' : 0,\n",
    "    'end_time' : 1\n",
    "}\n",
    "\n",
    "european_call = Derivative.EuropeanCall(dic_param_call)\n",
    "bs_model = UnderlyingModel.BlackScholes(dic_param_bs)\n",
    "pricer_mc = PricingMethod.PricingMonteCarlo(n_time,n_mc)"
   ],
   "id": "ad5d25580afe744d",
   "outputs": [
    {
     "ename": "ValueError",
     "evalue": "All elements in 'sigma' should be of type 'int' or 'float'.",
     "output_type": "error",
     "traceback": [
      "\u001B[0;31m---------------------------------------------------------------------------\u001B[0m",
      "\u001B[0;31mValueError\u001B[0m                                Traceback (most recent call last)",
      "Cell \u001B[0;32mIn[16], line 20\u001B[0m\n\u001B[1;32m     13\u001B[0m dic_param_call \u001B[38;5;241m=\u001B[39m {\n\u001B[1;32m     14\u001B[0m     \u001B[38;5;124m'\u001B[39m\u001B[38;5;124mK\u001B[39m\u001B[38;5;124m'\u001B[39m : [\u001B[38;5;241m100\u001B[39m,\u001B[38;5;241m90\u001B[39m],\n\u001B[1;32m     15\u001B[0m     \u001B[38;5;124m'\u001B[39m\u001B[38;5;124mvaluation_time\u001B[39m\u001B[38;5;124m'\u001B[39m : \u001B[38;5;241m0\u001B[39m,\n\u001B[1;32m     16\u001B[0m     \u001B[38;5;124m'\u001B[39m\u001B[38;5;124mend_time\u001B[39m\u001B[38;5;124m'\u001B[39m : \u001B[38;5;241m1\u001B[39m\n\u001B[1;32m     17\u001B[0m }\n\u001B[1;32m     19\u001B[0m european_call \u001B[38;5;241m=\u001B[39m Derivative\u001B[38;5;241m.\u001B[39mEuropeanCall(dic_param_call)\n\u001B[0;32m---> 20\u001B[0m bs_model \u001B[38;5;241m=\u001B[39m \u001B[43mUnderlyingModel\u001B[49m\u001B[38;5;241;43m.\u001B[39;49m\u001B[43mBlackScholes\u001B[49m\u001B[43m(\u001B[49m\u001B[43mdic_param_bs\u001B[49m\u001B[43m)\u001B[49m\n\u001B[1;32m     21\u001B[0m pricer_mc \u001B[38;5;241m=\u001B[39m PricingMethod\u001B[38;5;241m.\u001B[39mPricingMonteCarlo(n_time,n_mc)\n",
      "File \u001B[0;32m~/PycharmProjects/OptionPricingEngine/src/UnderlyingModel.py:49\u001B[0m, in \u001B[0;36mBlackScholes.__init__\u001B[0;34m(self, dic_param_model)\u001B[0m\n\u001B[1;32m     46\u001B[0m \u001B[38;5;28;01mdef\u001B[39;00m \u001B[38;5;21m__init__\u001B[39m(\u001B[38;5;28mself\u001B[39m,\n\u001B[1;32m     47\u001B[0m              dic_param_model: \u001B[38;5;28mdict\u001B[39m[\u001B[38;5;28mstr\u001B[39m, Any]\n\u001B[1;32m     48\u001B[0m              ) \u001B[38;5;241m-\u001B[39m\u001B[38;5;241m>\u001B[39m \u001B[38;5;28;01mNone\u001B[39;00m:\n\u001B[0;32m---> 49\u001B[0m     \u001B[38;5;28;43mself\u001B[39;49m\u001B[38;5;241;43m.\u001B[39;49m\u001B[43mcheck_dic_param\u001B[49m\u001B[43m(\u001B[49m\u001B[43mdic_param_model\u001B[49m\u001B[43m)\u001B[49m\n\u001B[1;32m     50\u001B[0m     \u001B[38;5;28msuper\u001B[39m()\u001B[38;5;241m.\u001B[39m\u001B[38;5;21m__init__\u001B[39m(dic_param_model)\n\u001B[1;32m     51\u001B[0m     \u001B[38;5;28mself\u001B[39m\u001B[38;5;241m.\u001B[39mname \u001B[38;5;241m=\u001B[39m \u001B[38;5;124m\"\u001B[39m\u001B[38;5;124mBlack Scholes\u001B[39m\u001B[38;5;124m\"\u001B[39m\n",
      "File \u001B[0;32m~/PycharmProjects/OptionPricingEngine/src/UnderlyingModel.py:71\u001B[0m, in \u001B[0;36mBlackScholes.check_dic_param\u001B[0;34m(self, dic_param_model)\u001B[0m\n\u001B[1;32m     69\u001B[0m     \u001B[38;5;28;01mif\u001B[39;00m \u001B[38;5;28misinstance\u001B[39m(value, (\u001B[38;5;28mlist\u001B[39m, np\u001B[38;5;241m.\u001B[39mndarray)):\n\u001B[1;32m     70\u001B[0m         \u001B[38;5;28;01mif\u001B[39;00m \u001B[38;5;129;01mnot\u001B[39;00m \u001B[38;5;28mall\u001B[39m(\u001B[38;5;28misinstance\u001B[39m(v, (\u001B[38;5;28mint\u001B[39m, \u001B[38;5;28mfloat\u001B[39m)) \u001B[38;5;28;01mfor\u001B[39;00m v \u001B[38;5;129;01min\u001B[39;00m value):\n\u001B[0;32m---> 71\u001B[0m             \u001B[38;5;28;01mraise\u001B[39;00m \u001B[38;5;167;01mValueError\u001B[39;00m(\n\u001B[1;32m     72\u001B[0m                 \u001B[38;5;124mf\u001B[39m\u001B[38;5;124m\"\u001B[39m\u001B[38;5;124mAll elements in \u001B[39m\u001B[38;5;124m'\u001B[39m\u001B[38;5;132;01m{\u001B[39;00mparam\u001B[38;5;132;01m}\u001B[39;00m\u001B[38;5;124m'\u001B[39m\u001B[38;5;124m should be of type \u001B[39m\u001B[38;5;124m'\u001B[39m\u001B[38;5;124mint\u001B[39m\u001B[38;5;124m'\u001B[39m\u001B[38;5;124m or \u001B[39m\u001B[38;5;124m'\u001B[39m\u001B[38;5;124mfloat\u001B[39m\u001B[38;5;124m'\u001B[39m\u001B[38;5;124m.\u001B[39m\u001B[38;5;124m\"\u001B[39m\n\u001B[1;32m     73\u001B[0m             )\n\u001B[1;32m     75\u001B[0m \u001B[38;5;66;03m# Additional checks for n_underlying and other parameters\u001B[39;00m\n\u001B[1;32m     76\u001B[0m n_underlying \u001B[38;5;241m=\u001B[39m dic_param_model\u001B[38;5;241m.\u001B[39mget(\u001B[38;5;124m'\u001B[39m\u001B[38;5;124mn_underlying\u001B[39m\u001B[38;5;124m'\u001B[39m, \u001B[38;5;241m1\u001B[39m)\n",
      "\u001B[0;31mValueError\u001B[0m: All elements in 'sigma' should be of type 'int' or 'float'."
     ]
    }
   ],
   "execution_count": 16
  },
  {
   "metadata": {
    "ExecuteTime": {
     "end_time": "2024-10-10T15:48:34.844748Z",
     "start_time": "2024-10-10T15:48:34.842424Z"
    }
   },
   "cell_type": "code",
   "source": "dic_param_bs['sigma'].shape",
   "id": "b501dde9a3bfc4bc",
   "outputs": [
    {
     "data": {
      "text/plain": [
       "(1, 2)"
      ]
     },
     "execution_count": 18,
     "metadata": {},
     "output_type": "execute_result"
    }
   ],
   "execution_count": 18
  },
  {
   "metadata": {
    "ExecuteTime": {
     "end_time": "2024-10-10T15:48:46.976818Z",
     "start_time": "2024-10-10T15:48:46.973862Z"
    }
   },
   "cell_type": "code",
   "source": "np.matmul(dic_param_bs['sigma'].T, dic_param_bs['sigma'])",
   "id": "35f80369d2e97126",
   "outputs": [
    {
     "data": {
      "text/plain": [
       "array([[0.04, 0.08],\n",
       "       [0.08, 0.16]])"
      ]
     },
     "execution_count": 21,
     "metadata": {},
     "output_type": "execute_result"
    }
   ],
   "execution_count": 21
  },
  {
   "metadata": {
    "ExecuteTime": {
     "end_time": "2024-10-10T15:45:32.409506Z",
     "start_time": "2024-10-10T15:45:32.404605Z"
    }
   },
   "cell_type": "code",
   "source": "print(bs_model)",
   "id": "69b7513b9ab4d79",
   "outputs": [
    {
     "name": "stdout",
     "output_type": "stream",
     "text": [
      "Black Scholes model\n",
      "r: 0.01\n",
      "q: [0.02, 0.1]\n",
      "sigma: [0.2 0.4]\n",
      "underlying_price: [100, 80]\n",
      "rho: [[1.  0.5]\n",
      " [0.5 1. ]]\n",
      "n_underlying: 2\n",
      "\n"
     ]
    }
   ],
   "execution_count": 6
  },
  {
   "metadata": {
    "ExecuteTime": {
     "end_time": "2024-10-10T15:45:02.096849Z",
     "start_time": "2024-10-10T15:45:01.972032Z"
    }
   },
   "cell_type": "code",
   "source": "pricer_mc.generate_paths(european_call, bs_model)",
   "id": "f8f6bc6035ced16c",
   "outputs": [
    {
     "name": "stdout",
     "output_type": "stream",
     "text": [
      "[[1.        0.       ]\n",
      " [0.5       0.8660254]]\n"
     ]
    },
    {
     "ename": "TypeError",
     "evalue": "unsupported operand type(s) for ** or pow(): 'list' and 'int'",
     "output_type": "error",
     "traceback": [
      "\u001B[0;31m---------------------------------------------------------------------------\u001B[0m",
      "\u001B[0;31mTypeError\u001B[0m                                 Traceback (most recent call last)",
      "Cell \u001B[0;32mIn[4], line 1\u001B[0m\n\u001B[0;32m----> 1\u001B[0m \u001B[43mpricer_mc\u001B[49m\u001B[38;5;241;43m.\u001B[39;49m\u001B[43mgenerate_paths\u001B[49m\u001B[43m(\u001B[49m\u001B[43meuropean_call\u001B[49m\u001B[43m,\u001B[49m\u001B[43m \u001B[49m\u001B[43mbs_model\u001B[49m\u001B[43m)\u001B[49m\n",
      "File \u001B[0;32m~/PycharmProjects/OptionPricingEngine/src/PricingMethod.py:47\u001B[0m, in \u001B[0;36mPricingMonteCarlo.generate_paths\u001B[0;34m(self, derivative, model)\u001B[0m\n\u001B[1;32m     44\u001B[0m     w \u001B[38;5;241m=\u001B[39m \u001B[38;5;28mself\u001B[39m\u001B[38;5;241m.\u001B[39mgenerate_correlated_brownian(w, model\u001B[38;5;241m.\u001B[39mdic_param_model[\u001B[38;5;124m'\u001B[39m\u001B[38;5;124mrho\u001B[39m\u001B[38;5;124m'\u001B[39m], model\u001B[38;5;241m.\u001B[39mdic_param_model[\u001B[38;5;124m'\u001B[39m\u001B[38;5;124mn_underlying\u001B[39m\u001B[38;5;124m'\u001B[39m])\n\u001B[1;32m     45\u001B[0m     \u001B[38;5;28;01mfor\u001B[39;00m k \u001B[38;5;129;01min\u001B[39;00m \u001B[38;5;28mrange\u001B[39m(\u001B[38;5;28mself\u001B[39m\u001B[38;5;241m.\u001B[39mn_mc):\n\u001B[1;32m     46\u001B[0m         st[k \u001B[38;5;241m*\u001B[39m \u001B[38;5;28mself\u001B[39m\u001B[38;5;241m.\u001B[39mn_time:(k \u001B[38;5;241m+\u001B[39m \u001B[38;5;241m1\u001B[39m) \u001B[38;5;241m*\u001B[39m \u001B[38;5;28mself\u001B[39m\u001B[38;5;241m.\u001B[39mn_time] \u001B[38;5;241m=\u001B[39m np\u001B[38;5;241m.\u001B[39mdot(s, np\u001B[38;5;241m.\u001B[39mexp(\n\u001B[0;32m---> 47\u001B[0m             (r \u001B[38;5;241m-\u001B[39m q \u001B[38;5;241m-\u001B[39m \u001B[38;5;241m0.5\u001B[39m \u001B[38;5;241m*\u001B[39m (\u001B[43msigma\u001B[49m\u001B[43m \u001B[49m\u001B[38;5;241;43m*\u001B[39;49m\u001B[38;5;241;43m*\u001B[39;49m\u001B[43m \u001B[49m\u001B[38;5;241;43m2\u001B[39;49m)) \u001B[38;5;241m*\u001B[39m t \u001B[38;5;241m+\u001B[39m sigma \u001B[38;5;241m*\u001B[39m w[k \u001B[38;5;241m*\u001B[39m \u001B[38;5;28mself\u001B[39m\u001B[38;5;241m.\u001B[39mn_time:(k \u001B[38;5;241m+\u001B[39m \u001B[38;5;241m1\u001B[39m) \u001B[38;5;241m*\u001B[39m \u001B[38;5;28mself\u001B[39m\u001B[38;5;241m.\u001B[39mn_time]))\n\u001B[1;32m     48\u001B[0m \u001B[38;5;28;01melse\u001B[39;00m:\n\u001B[1;32m     49\u001B[0m     st \u001B[38;5;241m=\u001B[39m s \u001B[38;5;241m*\u001B[39m np\u001B[38;5;241m.\u001B[39mexp((r \u001B[38;5;241m-\u001B[39m q \u001B[38;5;241m-\u001B[39m \u001B[38;5;241m0.5\u001B[39m \u001B[38;5;241m*\u001B[39m (sigma \u001B[38;5;241m*\u001B[39m\u001B[38;5;241m*\u001B[39m \u001B[38;5;241m2\u001B[39m)) \u001B[38;5;241m*\u001B[39m t \u001B[38;5;241m+\u001B[39m sigma \u001B[38;5;241m*\u001B[39m w)\n",
      "\u001B[0;31mTypeError\u001B[0m: unsupported operand type(s) for ** or pow(): 'list' and 'int'"
     ]
    }
   ],
   "execution_count": 4
  },
  {
   "metadata": {
    "ExecuteTime": {
     "end_time": "2024-10-10T13:40:13.565188Z",
     "start_time": "2024-10-10T13:40:13.563085Z"
    }
   },
   "cell_type": "code",
   "source": "l = [4,2,1,3,4,2]",
   "id": "2205176c786a4ec7",
   "outputs": [],
   "execution_count": 11
  },
  {
   "metadata": {
    "ExecuteTime": {
     "end_time": "2024-10-10T13:40:13.568025Z",
     "start_time": "2024-10-10T13:40:13.565837Z"
    }
   },
   "cell_type": "code",
   "source": "l[4:6]",
   "id": "d19338a9f5a6ca7",
   "outputs": [
    {
     "data": {
      "text/plain": [
       "[4, 2]"
      ]
     },
     "execution_count": 12,
     "metadata": {},
     "output_type": "execute_result"
    }
   ],
   "execution_count": 12
  },
  {
   "metadata": {},
   "cell_type": "code",
   "outputs": [],
   "execution_count": null,
   "source": "",
   "id": "6efec456a409eb82"
  }
 ],
 "metadata": {
  "kernelspec": {
   "display_name": "Python 3",
   "language": "python",
   "name": "python3"
  },
  "language_info": {
   "codemirror_mode": {
    "name": "ipython",
    "version": 2
   },
   "file_extension": ".py",
   "mimetype": "text/x-python",
   "name": "python",
   "nbconvert_exporter": "python",
   "pygments_lexer": "ipython2",
   "version": "2.7.6"
  }
 },
 "nbformat": 4,
 "nbformat_minor": 5
}
