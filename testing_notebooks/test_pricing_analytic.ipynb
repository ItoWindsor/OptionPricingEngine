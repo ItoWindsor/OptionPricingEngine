{
 "cells": [
  {
   "cell_type": "code",
   "id": "initial_id",
   "metadata": {
    "collapsed": true,
    "ExecuteTime": {
     "end_time": "2024-10-05T19:22:04.252569Z",
     "start_time": "2024-10-05T19:22:03.510634Z"
    }
   },
   "source": [
    "from src.PricingMethod import PricingAnalytic\n",
    "from src.Derivative import EuropeanCall\n",
    "from src.UnderlyingModel import BlackScholes"
   ],
   "outputs": [],
   "execution_count": 1
  },
  {
   "metadata": {
    "ExecuteTime": {
     "end_time": "2024-10-05T19:22:04.730150Z",
     "start_time": "2024-10-05T19:22:04.728079Z"
    }
   },
   "cell_type": "code",
   "source": [
    "r = 0.02\n",
    "q = 0.0\n",
    "sigma = 0.4\n",
    "S = 100 \n",
    "\n",
    "\n",
    "pricer = PricingAnalytic()\n",
    "\n",
    "\n",
    "dic_param_call = {\n",
    "    'K' : 100,\n",
    "    'end_time' : 1,\n",
    "    'valuation_time' : 0\n",
    "}\n",
    "european_call = EuropeanCall(dic_param_call) \n",
    "bs_model = BlackScholes(r,q,sigma,S, {})"
   ],
   "id": "f3a946a556890824",
   "outputs": [],
   "execution_count": 2
  },
  {
   "metadata": {
    "ExecuteTime": {
     "end_time": "2024-10-05T19:22:05.298127Z",
     "start_time": "2024-10-05T19:22:05.295307Z"
    }
   },
   "cell_type": "code",
   "source": "price_call = pricer.compute_price(european_call,bs_model)",
   "id": "2a2d0eb83429c1f9",
   "outputs": [],
   "execution_count": 3
  },
  {
   "metadata": {
    "ExecuteTime": {
     "end_time": "2024-10-05T19:22:05.826574Z",
     "start_time": "2024-10-05T19:22:05.824478Z"
    }
   },
   "cell_type": "code",
   "source": "print(price_call)",
   "id": "e3601c88cd10887e",
   "outputs": [
    {
     "name": "stdout",
     "output_type": "stream",
     "text": [
      "16.704417199646805\n"
     ]
    }
   ],
   "execution_count": 4
  }
 ],
 "metadata": {
  "kernelspec": {
   "display_name": "Python 3",
   "language": "python",
   "name": "python3"
  },
  "language_info": {
   "codemirror_mode": {
    "name": "ipython",
    "version": 2
   },
   "file_extension": ".py",
   "mimetype": "text/x-python",
   "name": "python",
   "nbconvert_exporter": "python",
   "pygments_lexer": "ipython2",
   "version": "2.7.6"
  }
 },
 "nbformat": 4,
 "nbformat_minor": 5
}
